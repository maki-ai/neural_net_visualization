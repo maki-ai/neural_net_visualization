{
 "cells": [
  {
   "cell_type": "code",
   "execution_count": 1,
   "metadata": {},
   "outputs": [],
   "source": [
    "# IMPORTS\n",
    "from __future__ import print_function\n",
    "import os\n",
    "import sys\n",
    "from io import BytesIO\n",
    "import numpy as np\n",
    "from functools import partial\n",
    "import PIL.Image\n",
    "from IPython.display import clear_output, Image, display, HTML\n",
    "\n",
    "from scipy.misc import toimage\n",
    "\n",
    "from scipy import sparse\n",
    "import scipy\n",
    "\n",
    "from random import randrange\n",
    "\n",
    "import tensorflow as tf\n",
    "\n",
    "import time\n",
    "from PIL import Image\n",
    "from matplotlib.pyplot import imshow\n",
    "import matplotlib.pyplot as plt"
   ]
  },
  {
   "cell_type": "code",
   "execution_count": 2,
   "metadata": {},
   "outputs": [],
   "source": [
    "#UTILS\n",
    "\n",
    "def load_image(image_path):\n",
    "    img = Image.open(image_path)\n",
    "    img.load()\n",
    "    img_data = np.asarray( img, dtype=\"int32\" )\n",
    "    return img_data\n",
    "\n",
    "def convert2time(time_sec):\n",
    "    sec = time_sec%60\n",
    "    minute = (time_sec/60)%60\n",
    "    hour = (time_sec/3600)%60\n",
    "    \n",
    "    return str(hour) + \":\" + str(minute) + \":\" + str(sec)"
   ]
  },
  {
   "cell_type": "code",
   "execution_count": 3,
   "metadata": {},
   "outputs": [],
   "source": [
    "class Channel_Visualization():\n",
    "    \"\"\"This class can be used independently from the other ones to visualize channels of a particular network\"\"\"\n",
    "    \n",
    "    sess = None\n",
    "    \n",
    "    def __init__(self,frozen_model_path):\n",
    "        \n",
    "        graph = tf.Graph()\n",
    "        self.sess = tf.InteractiveSession(graph=graph)\n",
    "        \n",
    "        with tf.gfile.FastGFile(frozen_model_path, 'rb') as f:\n",
    "            graph_def = tf.GraphDef()\n",
    "            graph_def.ParseFromString(f.read())\n",
    "\n",
    "            t_input = tf.placeholder(np.float32, name='input') # define the input tensor\n",
    "            imagenet_mean = 117.0\n",
    "            t_preprocessed = tf.expand_dims(t_input-imagenet_mean, 0)\n",
    "            tf.import_graph_def(graph_def, {'input':t_preprocessed})\n",
    "            \n",
    "        print(\"Graph has been successfully loaded\") \n",
    "    \n",
    "    \n",
    "    def visualize_channel_features(self,layer_name='mixed5b_3x3_pre_relu',channel_number='0',num_iterations=10, step_size=1):\n",
    "        \n",
    "        synthesized_image = np.random.uniform(size=(224,224,3)) + 127.0\n",
    "        \n",
    "        target_tensor = self.sess.graph.get_tensor_by_name(\"import/%s:0\"%layer_name)\n",
    "        \n",
    "        target_activation = tf.reduce_mean(target_tensor)\n",
    "        input_tensor =  self.sess.graph.get_tensor_by_name(\"input:0\")\n",
    "        \n",
    "        gradients_tensor = tf.gradients(target_tensor,input_tensor)[0]\n",
    "        \n",
    "        for i in range(0,num_iterations):\n",
    "            \n",
    "            gradients = self.sess.run(gradients_tensor, {input_tensor:synthesized_image})\n",
    "            \n",
    "            gradients /= np.std(gradients)+sys.float_info.epsilon\n",
    "            synthesized_image += gradients*step_size\n",
    "        \n",
    "        \n",
    "        \n",
    "        synthesized_image = np.uint8(np.clip(synthesized_image, 0, 255))\n",
    "        final_image = Image.fromarray(synthesized_image, 'RGB')\n",
    "        final_image.show()\n",
    "        \n",
    "        return final_image\n",
    "    \n",
    "    def get_saliency_map(self,input_image_path,layer_name='output2',channel_number='0'):\n",
    "        \n",
    "        input_image=load_image(input_image_path)\n",
    "        \n",
    "        target_tensor = self.sess.graph.get_tensor_by_name(\"import/%s:0\"%layer_name)\n",
    "        target_activation = tf.reduce_mean(target_tensor)\n",
    "        input_tensor =  self.sess.graph.get_tensor_by_name(\"input:0\")\n",
    "        gradients_tensor = tf.gradients(target_tensor,input_tensor)[0]\n",
    "        \n",
    "        gradients = self.sess.run(gradients_tensor, {input_tensor:input_image})\n",
    "        gradients = np.resize(gradients,input_image.shape)\n",
    "        \n",
    "        gradients_pixels = np.sum(gradients,axis=2)\n",
    "        gradients_pixels /= np.max(gradients_pixels)+sys.float_info.epsilon\n",
    "        gradients_pixels *=255\n",
    "        gradients_pixels = np.int32(np.clip(gradients_pixels, 0, 255))\n",
    "        \n",
    "        output_image = np.copy(input_image)\n",
    "        output_image[:,:,0]+=gradients_pixels\n",
    "        \n",
    "        output_image = np.uint8(np.clip(output_image, 0, 255))\n",
    "        final_image = Image.fromarray(output_image, 'RGB')\n",
    "        final_image.show()\n",
    "        \n",
    "        return final_image\n",
    "        "
   ]
  },
  {
   "cell_type": "code",
   "execution_count": null,
   "metadata": {},
   "outputs": [
    {
     "name": "stdout",
     "output_type": "stream",
     "text": [
      "Graph has been successfully loaded\n"
     ]
    }
   ],
   "source": [
    "if  'chan_vis' not in locals():\n",
    "    frozen_model_path = './inception5h/tensorflow_inception_graph.pb'\n",
    "    chan_vis = Channel_Visualization(frozen_model_path)\n",
    "    \n",
    "synthesized_image=chan_vis.visualize_channel_features(num_iterations=100)\n",
    "gradients_image=chan_vis.get_saliency_map('./testImages/ILSVRC2012_val_00000002.JPEG')"
   ]
  },
  {
   "cell_type": "code",
   "execution_count": null,
   "metadata": {},
   "outputs": [],
   "source": []
  }
 ],
 "metadata": {
  "kernelspec": {
   "display_name": "Python 2",
   "language": "python",
   "name": "python2"
  },
  "language_info": {
   "codemirror_mode": {
    "name": "ipython",
    "version": 2
   },
   "file_extension": ".py",
   "mimetype": "text/x-python",
   "name": "python",
   "nbconvert_exporter": "python",
   "pygments_lexer": "ipython2",
   "version": "2.7.12"
  }
 },
 "nbformat": 4,
 "nbformat_minor": 2
}
